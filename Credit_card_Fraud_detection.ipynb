{
  "nbformat": 4,
  "nbformat_minor": 0,
  "metadata": {
    "colab": {
      "provenance": []
    },
    "kernelspec": {
      "name": "python3",
      "display_name": "Python 3"
    },
    "language_info": {
      "name": "python"
    }
  },
  "cells": [
    {
      "cell_type": "code",
      "execution_count": null,
      "metadata": {
        "id": "ko2225NKUYgR"
      },
      "outputs": [],
      "source": [
        "import tensorflow as tf\n",
        "import pickle\n",
        "from tensorflow import keras\n",
        "from tensorflow.keras  import Sequential\n",
        "from tensorflow.keras.layers import Flatten,Dense,Dropout,BatchNormalization\n",
        "from tensorflow.keras.layers import Conv1D,MaxPool1D\n",
        "from tensorflow.keras.optimizers import Adam\n",
        "import pandas as pd\n",
        "import numpy as np\n",
        "import sklearn\n",
        "import seaborn as sns\n",
        "import matplotlib.pyplot as plt\n",
        "from sklearn.model_selection import train_test_split\n",
        "from sklearn.preprocessing import StandardScaler\n",
        "\n",
        "\n",
        "\n"
      ]
    },
    {
      "cell_type": "code",
      "execution_count": null,
      "metadata": {
        "colab": {
          "base_uri": "https://localhost:8080/",
          "height": 1000
        },
        "id": "pXRJU32bSD5O",
        "outputId": "77d5f54d-9879-4e32-b867-2c203896e4aa"
      },
      "outputs": [
        {
          "output_type": "stream",
          "name": "stdout",
          "text": [
            "   Time        V1        V2        V3  ...       V27       V28  Amount  Class\n",
            "0     0 -1.359807 -0.072781  2.536347  ...  0.133558 -0.021053  149.62    0.0\n",
            "1     0  1.191857  0.266151  0.166480  ... -0.008983  0.014724    2.69    0.0\n",
            "2     1 -1.358354 -1.340163  1.773209  ... -0.055353 -0.059752  378.66    0.0\n",
            "3     1 -0.966272 -0.185226  1.792993  ...  0.062723  0.061458  123.50    0.0\n",
            "4     2 -1.158233  0.877737  1.548718  ...  0.219422  0.215153   69.99    0.0\n",
            "\n",
            "[5 rows x 31 columns]\n",
            "(17505, 31)\n",
            "Time      0\n",
            "V1        0\n",
            "V2        0\n",
            "V3        0\n",
            "V4        0\n",
            "V5        0\n",
            "V6        0\n",
            "V7        0\n",
            "V8        0\n",
            "V9        0\n",
            "V10       0\n",
            "V11       0\n",
            "V12       0\n",
            "V13       0\n",
            "V14       0\n",
            "V15       0\n",
            "V16       0\n",
            "V17       0\n",
            "V18       0\n",
            "V19       0\n",
            "V20       1\n",
            "V21       1\n",
            "V22       1\n",
            "V23       1\n",
            "V24       1\n",
            "V25       1\n",
            "V26       1\n",
            "V27       1\n",
            "V28       1\n",
            "Amount    1\n",
            "Class     1\n",
            "dtype: int64\n",
            "0.0    17423\n",
            "1.0       81\n",
            "Name: Class, dtype: int64\n",
            "(17423, 31) (81, 31)\n",
            "(81, 31)\n",
            "      Time        V1        V2        V3  ...       V27       V28  Amount  Class\n",
            "0      406 -2.312227  1.951992 -1.609851  ...  0.261145 -0.143276    0.00    1.0\n",
            "1      472 -3.043541 -3.157307  1.088463  ... -0.252773  0.035764  529.00    1.0\n",
            "2     4462 -2.303350  1.759247 -0.359745  ...  0.039566 -0.153029  239.93    1.0\n",
            "3     6986 -4.397974  1.358367 -2.592844  ... -0.827136  0.849573   59.00    1.0\n",
            "4     7519  1.234235  3.019740 -4.304597  ... -0.010016  0.146793    1.00    1.0\n",
            "..     ...       ...       ...       ...  ...       ...       ...     ...    ...\n",
            "157   1111  1.132691 -0.099536  1.006702  ...  0.008908  0.028402   29.54    0.0\n",
            "158  28418  1.561486 -0.948481  0.240888  ...  0.029958  0.015250   10.00    0.0\n",
            "159  17115 -0.133648 -2.181373  0.624610  ... -0.065719  0.128109  639.65    0.0\n",
            "160  13334  0.189920  0.420672  1.636034  ...  0.131521  0.165960   25.00    0.0\n",
            "161  14522 -2.419108  2.418964 -0.534875  ...  0.015193  0.009579   38.51    0.0\n",
            "\n",
            "[162 rows x 31 columns]\n",
            "1.0    81\n",
            "0.0    81\n",
            "Name: Class, dtype: int64\n",
            "(129, 30) (33, 30)\n",
            "(129, 30)\n",
            "(129, 30, 1) (33, 30, 1)\n",
            "Model: \"sequential\"\n",
            "_________________________________________________________________\n",
            " Layer (type)                Output Shape              Param #   \n",
            "=================================================================\n",
            " conv1d (Conv1D)             (None, 29, 32)            96        \n",
            "                                                                 \n",
            " batch_normalization (BatchN  (None, 29, 32)           128       \n",
            " ormalization)                                                   \n",
            "                                                                 \n",
            " dropout (Dropout)           (None, 29, 32)            0         \n",
            "                                                                 \n",
            " conv1d_1 (Conv1D)           (None, 28, 64)            4160      \n",
            "                                                                 \n",
            " batch_normalization_1 (Batc  (None, 28, 64)           256       \n",
            " hNormalization)                                                 \n",
            "                                                                 \n",
            " dropout_1 (Dropout)         (None, 28, 64)            0         \n",
            "                                                                 \n",
            " flatten (Flatten)           (None, 1792)              0         \n",
            "                                                                 \n",
            " dense (Dense)               (None, 64)                114752    \n",
            "                                                                 \n",
            " dropout_2 (Dropout)         (None, 64)                0         \n",
            "                                                                 \n",
            " dense_1 (Dense)             (None, 1)                 65        \n",
            "                                                                 \n",
            "=================================================================\n",
            "Total params: 119,457\n",
            "Trainable params: 119,265\n",
            "Non-trainable params: 192\n",
            "_________________________________________________________________\n",
            "None\n"
          ]
        },
        {
          "output_type": "stream",
          "name": "stderr",
          "text": [
            "/usr/local/lib/python3.7/dist-packages/keras/optimizer_v2/adam.py:105: UserWarning: The `lr` argument is deprecated, use `learning_rate` instead.\n",
            "  super(Adam, self).__init__(name, **kwargs)\n"
          ]
        },
        {
          "output_type": "stream",
          "name": "stdout",
          "text": [
            "Epoch 1/50\n",
            "5/5 [==============================] - 2s 78ms/step - loss: 0.9738 - accuracy: 0.5891 - val_loss: 0.6386 - val_accuracy: 0.6061\n",
            "Epoch 2/50\n",
            "5/5 [==============================] - 0s 14ms/step - loss: 0.5722 - accuracy: 0.7364 - val_loss: 0.6068 - val_accuracy: 0.8182\n",
            "Epoch 3/50\n",
            "5/5 [==============================] - 0s 14ms/step - loss: 0.4856 - accuracy: 0.7442 - val_loss: 0.5768 - val_accuracy: 0.8485\n",
            "Epoch 4/50\n",
            "5/5 [==============================] - 0s 14ms/step - loss: 0.4786 - accuracy: 0.8450 - val_loss: 0.5495 - val_accuracy: 0.8485\n",
            "Epoch 5/50\n",
            "5/5 [==============================] - 0s 13ms/step - loss: 0.3579 - accuracy: 0.8760 - val_loss: 0.5268 - val_accuracy: 0.8485\n",
            "Epoch 6/50\n",
            "5/5 [==============================] - 0s 13ms/step - loss: 0.3065 - accuracy: 0.8682 - val_loss: 0.5079 - val_accuracy: 0.8485\n",
            "Epoch 7/50\n",
            "5/5 [==============================] - 0s 15ms/step - loss: 0.2894 - accuracy: 0.9070 - val_loss: 0.4918 - val_accuracy: 0.8485\n",
            "Epoch 8/50\n",
            "5/5 [==============================] - 0s 14ms/step - loss: 0.2254 - accuracy: 0.9070 - val_loss: 0.4782 - val_accuracy: 0.8485\n",
            "Epoch 9/50\n",
            "5/5 [==============================] - 0s 14ms/step - loss: 0.2775 - accuracy: 0.8992 - val_loss: 0.4669 - val_accuracy: 0.8485\n",
            "Epoch 10/50\n",
            "5/5 [==============================] - 0s 14ms/step - loss: 0.1964 - accuracy: 0.9457 - val_loss: 0.4554 - val_accuracy: 0.8485\n",
            "Epoch 11/50\n",
            "5/5 [==============================] - 0s 17ms/step - loss: 0.2634 - accuracy: 0.9225 - val_loss: 0.4448 - val_accuracy: 0.8788\n",
            "Epoch 12/50\n",
            "5/5 [==============================] - 0s 15ms/step - loss: 0.1993 - accuracy: 0.9147 - val_loss: 0.4370 - val_accuracy: 0.9091\n",
            "Epoch 13/50\n",
            "5/5 [==============================] - 0s 15ms/step - loss: 0.2274 - accuracy: 0.9302 - val_loss: 0.4288 - val_accuracy: 0.9394\n",
            "Epoch 14/50\n",
            "5/5 [==============================] - 0s 13ms/step - loss: 0.1838 - accuracy: 0.9380 - val_loss: 0.4213 - val_accuracy: 0.9394\n",
            "Epoch 15/50\n",
            "5/5 [==============================] - 0s 14ms/step - loss: 0.2516 - accuracy: 0.9147 - val_loss: 0.4112 - val_accuracy: 0.9394\n",
            "Epoch 16/50\n",
            "5/5 [==============================] - 0s 14ms/step - loss: 0.1324 - accuracy: 0.9612 - val_loss: 0.4011 - val_accuracy: 0.9394\n",
            "Epoch 17/50\n",
            "5/5 [==============================] - 0s 15ms/step - loss: 0.1406 - accuracy: 0.9612 - val_loss: 0.3905 - val_accuracy: 0.9394\n",
            "Epoch 18/50\n",
            "5/5 [==============================] - 0s 14ms/step - loss: 0.1778 - accuracy: 0.9535 - val_loss: 0.3778 - val_accuracy: 0.9394\n",
            "Epoch 19/50\n",
            "5/5 [==============================] - 0s 13ms/step - loss: 0.1432 - accuracy: 0.9690 - val_loss: 0.3654 - val_accuracy: 0.9394\n",
            "Epoch 20/50\n",
            "5/5 [==============================] - 0s 14ms/step - loss: 0.1701 - accuracy: 0.9302 - val_loss: 0.3565 - val_accuracy: 0.9697\n",
            "Epoch 21/50\n",
            "5/5 [==============================] - 0s 15ms/step - loss: 0.1539 - accuracy: 0.9380 - val_loss: 0.3458 - val_accuracy: 0.9697\n",
            "Epoch 22/50\n",
            "5/5 [==============================] - 0s 14ms/step - loss: 0.1566 - accuracy: 0.9380 - val_loss: 0.3346 - val_accuracy: 0.9697\n",
            "Epoch 23/50\n",
            "5/5 [==============================] - 0s 13ms/step - loss: 0.1260 - accuracy: 0.9380 - val_loss: 0.3240 - val_accuracy: 0.9697\n",
            "Epoch 24/50\n",
            "5/5 [==============================] - 0s 14ms/step - loss: 0.1057 - accuracy: 0.9612 - val_loss: 0.3134 - val_accuracy: 0.9697\n",
            "Epoch 25/50\n",
            "5/5 [==============================] - 0s 14ms/step - loss: 0.1165 - accuracy: 0.9767 - val_loss: 0.3026 - val_accuracy: 0.9697\n",
            "Epoch 26/50\n",
            "5/5 [==============================] - 0s 13ms/step - loss: 0.1425 - accuracy: 0.9535 - val_loss: 0.2925 - val_accuracy: 0.9697\n",
            "Epoch 27/50\n",
            "5/5 [==============================] - 0s 13ms/step - loss: 0.2192 - accuracy: 0.9147 - val_loss: 0.2838 - val_accuracy: 0.9697\n",
            "Epoch 28/50\n",
            "5/5 [==============================] - 0s 13ms/step - loss: 0.0934 - accuracy: 0.9690 - val_loss: 0.2755 - val_accuracy: 0.9697\n",
            "Epoch 29/50\n",
            "5/5 [==============================] - 0s 13ms/step - loss: 0.1404 - accuracy: 0.9535 - val_loss: 0.2681 - val_accuracy: 0.9697\n",
            "Epoch 30/50\n",
            "5/5 [==============================] - 0s 15ms/step - loss: 0.0890 - accuracy: 0.9690 - val_loss: 0.2629 - val_accuracy: 0.9697\n",
            "Epoch 31/50\n",
            "5/5 [==============================] - 0s 14ms/step - loss: 0.1681 - accuracy: 0.9535 - val_loss: 0.2563 - val_accuracy: 0.9697\n",
            "Epoch 32/50\n",
            "5/5 [==============================] - 0s 14ms/step - loss: 0.1606 - accuracy: 0.9302 - val_loss: 0.2501 - val_accuracy: 0.9697\n",
            "Epoch 33/50\n",
            "5/5 [==============================] - 0s 13ms/step - loss: 0.1006 - accuracy: 0.9535 - val_loss: 0.2430 - val_accuracy: 0.9697\n",
            "Epoch 34/50\n",
            "5/5 [==============================] - 0s 19ms/step - loss: 0.0932 - accuracy: 0.9612 - val_loss: 0.2340 - val_accuracy: 0.9697\n",
            "Epoch 35/50\n",
            "5/5 [==============================] - 0s 14ms/step - loss: 0.0663 - accuracy: 0.9845 - val_loss: 0.2263 - val_accuracy: 0.9697\n",
            "Epoch 36/50\n",
            "5/5 [==============================] - 0s 13ms/step - loss: 0.1359 - accuracy: 0.9535 - val_loss: 0.2209 - val_accuracy: 0.9697\n",
            "Epoch 37/50\n",
            "5/5 [==============================] - 0s 14ms/step - loss: 0.1326 - accuracy: 0.9612 - val_loss: 0.2154 - val_accuracy: 0.9697\n",
            "Epoch 38/50\n",
            "5/5 [==============================] - 0s 16ms/step - loss: 0.1222 - accuracy: 0.9612 - val_loss: 0.2080 - val_accuracy: 0.9697\n",
            "Epoch 39/50\n",
            "5/5 [==============================] - 0s 14ms/step - loss: 0.0780 - accuracy: 0.9767 - val_loss: 0.2031 - val_accuracy: 0.9697\n",
            "Epoch 40/50\n",
            "5/5 [==============================] - 0s 13ms/step - loss: 0.1120 - accuracy: 0.9690 - val_loss: 0.1961 - val_accuracy: 0.9697\n",
            "Epoch 41/50\n",
            "5/5 [==============================] - 0s 14ms/step - loss: 0.0627 - accuracy: 0.9922 - val_loss: 0.1895 - val_accuracy: 0.9697\n",
            "Epoch 42/50\n",
            "5/5 [==============================] - 0s 13ms/step - loss: 0.0948 - accuracy: 0.9535 - val_loss: 0.1837 - val_accuracy: 0.9697\n",
            "Epoch 43/50\n",
            "5/5 [==============================] - 0s 15ms/step - loss: 0.0679 - accuracy: 0.9690 - val_loss: 0.1776 - val_accuracy: 0.9697\n",
            "Epoch 44/50\n",
            "5/5 [==============================] - 0s 13ms/step - loss: 0.1020 - accuracy: 0.9612 - val_loss: 0.1721 - val_accuracy: 0.9697\n",
            "Epoch 45/50\n",
            "5/5 [==============================] - 0s 14ms/step - loss: 0.0935 - accuracy: 0.9767 - val_loss: 0.1676 - val_accuracy: 0.9697\n",
            "Epoch 46/50\n",
            "5/5 [==============================] - 0s 13ms/step - loss: 0.0862 - accuracy: 0.9690 - val_loss: 0.1640 - val_accuracy: 0.9697\n",
            "Epoch 47/50\n",
            "5/5 [==============================] - 0s 16ms/step - loss: 0.0614 - accuracy: 0.9767 - val_loss: 0.1602 - val_accuracy: 0.9697\n",
            "Epoch 48/50\n",
            "5/5 [==============================] - 0s 16ms/step - loss: 0.0891 - accuracy: 0.9690 - val_loss: 0.1575 - val_accuracy: 0.9697\n",
            "Epoch 49/50\n",
            "5/5 [==============================] - 0s 14ms/step - loss: 0.0709 - accuracy: 0.9612 - val_loss: 0.1542 - val_accuracy: 0.9697\n",
            "Epoch 50/50\n",
            "5/5 [==============================] - 0s 13ms/step - loss: 0.0719 - accuracy: 0.9690 - val_loss: 0.1551 - val_accuracy: 0.9697\n"
          ]
        },
        {
          "output_type": "display_data",
          "data": {
            "image/png": "[encoded data removed]",
            "text/plain": [
              "<Figure size 432x288 with 1 Axes>"
            ]
          },
          "metadata": {
            "needs_background": "light"
          }
        },
        {
          "output_type": "display_data",
          "data": {
            "image/png": "[encoded data removed]",
            "text/plain": [
              "<Figure size 432x288 with 1 Axes>"
            ]
          },
          "metadata": {
            "needs_background": "light"
          }
        },
        {
          "output_type": "stream",
          "name": "stdout",
          "text": [
            "None\n"
          ]
        }
      ],
      "source": [
        "data=pd.read_csv('creditcard.csv')\n",
        "print(data.head())\n",
        "print(data.shape)\n",
        "print(data.isnull().sum())\n",
        "print(data['Class'].value_counts())\n",
        "non_fraud=data[data['Class']==0]\n",
        "fraud=data[data['Class']==1]\n",
        "print(non_fraud.shape,fraud.shape)\n",
        "non_fraud=non_fraud.sample(fraud.shape[0])\n",
        "print(non_fraud.shape)\n",
        "data=fraud.append(non_fraud,ignore_index=True)\n",
        "print(data)\n",
        "print(data['Class'].value_counts())\n",
        "x=data.drop('Class',axis=1)\n",
        "y=data['Class']\n",
        "x_train,x_test,y_train,y_test=train_test_split(x,y,test_size=0.2,random_state=0,stratify=y)\n",
        "print(x_train.shape,x_test.shape)\n",
        "scaler=StandardScaler()\n",
        "x_train=scaler.fit_transform(x_train)\n",
        "x_test=scaler.fit_transform(x_test)\n",
        "y_train=y_train.to_numpy()\n",
        "y_test=y_test.to_numpy()\n",
        "print(x_train.shape)\n",
        "x_train=x_train.reshape(x_train.shape[0],x_train.shape[1],1)\n",
        "x_test=x_test.reshape(x_test.shape[0],x_test.shape[1],1)\n",
        "print(x_train.shape,x_test.shape)\n",
        "epochs=50\n",
        "model=Sequential()\n",
        "model.add(Conv1D(32,2,activation='relu',input_shape=x_train[0].shape))\n",
        "model.add(BatchNormalization())\n",
        "model.add(Dropout(0.2))\n",
        "model.add(Conv1D(64,2,activation='relu'))\n",
        "model.add(BatchNormalization())\n",
        "model.add(Dropout(0.5))\n",
        "model.add(Flatten())\n",
        "model.add(Dense(64,activation='relu'))\n",
        "model.add(Dropout(0.5))\n",
        "model.add(Dense(1,activation='sigmoid'))\n",
        "print(model.summary())\n",
        "model.compile(optimizer=Adam(lr=0.0001),loss='binary_crossentropy',metrics=['accuracy'])\n",
        "history=model.fit(x_train,y_train,epochs=epochs,validation_data=(x_test,y_test),verbose=1)\n",
        "def plot_learningCurve(history,epoch):\n",
        "  epoch_range=range(1,epoch+1)\n",
        "  plt.plot(epoch_range,history.history['accuracy'])\n",
        "  plt.plot(epoch_range,history.history['val_accuracy'])\n",
        "  plt.title('Model Accuracy')\n",
        "  plt.ylabel('Accuracy')\n",
        "  plt.xlabel('Epoch')\n",
        "  plt.legend(['Train','Val'],loc='upper left')\n",
        "  plt.show()\n",
        "  plt.plot(epoch_range,history.history['loss'])\n",
        "  plt.plot(epoch_range,history.history['val_loss'])\n",
        "  plt.title('Model loss')\n",
        "  plt.ylabel('Loss')\n",
        "  plt.xlabel('Epoch')\n",
        "  plt.legend(['Train','Val'],loc='upper left')\n",
        "  plt.show()\n",
        "print(plot_learningCurve(history,epochs))\n"
      ]
    },
    {
      "cell_type": "code",
      "source": [
        "epochs=50\n",
        "model=Sequential()\n",
        "model.add(Conv1D(32,2,activation='relu',input_shape=x_train[0].shape))\n",
        "model.add(BatchNormalization())\n",
        "model.add(MaxPool1D(2))\n",
        "model.add(Dropout(0.2))\n",
        "model.add(Conv1D(64,2,activation='relu'))\n",
        "model.add(BatchNormalization())\n",
        "model.add(MaxPool1D(2))\n",
        "model.add(Dropout(0.5))\n",
        "model.add(Flatten())\n",
        "model.add(Dense(64,activation='relu'))\n",
        "model.add(Dropout(0.5))\n",
        "model.add(Dense(1,activation='sigmoid'))\n",
        "print(model.summary())\n",
        "model.compile(optimizer=Adam(lr=0.0001),loss='binary_crossentropy',metrics=['accuracy'])\n",
        "history=model.fit(x_train,y_train,epochs=epochs,validation_data=(x_test,y_test),verbose=1)\n",
        "print(plot_learningCurve(history,epochs))\n",
        "model.save(\"model.hdf5\")\n",
        "file_name='final_model.pkl'\n",
        "pickle.dump(model,open(file_name,'wb'))\n",
        "loaded_model=pickle.load(open(file_name,'rb'))\n",
        "y_pred=loaded_model.predict([[472,-3.04,-3.15,-1.7,2.45,0.45,-0.243,1.34,-0.3242,1.34,2.45,2.78,2.25,2.34,.90,2.34,2.345\n",
        "                              -0.45,.45,.35,0.267,0.345,2.34,.23,.34,-0.354,0.345,0.45,0.45,2.34,149.72]])\n",
        "print(y_pred)\n",
        "\n"
      ],
      "metadata": {
        "colab": {
          "base_uri": "https://localhost:8080/",
          "height": 1000
        },
        "id": "RZSuGKgkeDXZ",
        "outputId": "678c6b71-d911-4259-ea01-21cd437f1d95"
      },
      "execution_count": null,
      "outputs": [
        {
          "output_type": "stream",
          "name": "stdout",
          "text": [
            "Model: \"sequential_3\"\n",
            "_________________________________________________________________\n",
            " Layer (type)                Output Shape              Param #   \n",
            "=================================================================\n",
            " conv1d_6 (Conv1D)           (None, 29, 32)            96        \n",
            "                                                                 \n",
            " batch_normalization_6 (Batc  (None, 29, 32)           128       \n",
            " hNormalization)                                                 \n",
            "                                                                 \n",
            " max_pooling1d_4 (MaxPooling  (None, 14, 32)           0         \n",
            " 1D)                                                             \n",
            "                                                                 \n",
            " dropout_9 (Dropout)         (None, 14, 32)            0         \n",
            "                                                                 \n",
            " conv1d_7 (Conv1D)           (None, 13, 64)            4160      \n",
            "                                                                 \n",
            " batch_normalization_7 (Batc  (None, 13, 64)           256       \n",
            " hNormalization)                                                 \n",
            "                                                                 \n",
            " max_pooling1d_5 (MaxPooling  (None, 6, 64)            0         \n",
            " 1D)                                                             \n",
            "                                                                 \n",
            " dropout_10 (Dropout)        (None, 6, 64)             0         \n",
            "                                                                 \n",
            " flatten_3 (Flatten)         (None, 384)               0         \n",
            "                                                                 \n",
            " dense_6 (Dense)             (None, 64)                24640     \n",
            "                                                                 \n",
            " dropout_11 (Dropout)        (None, 64)                0         \n",
            "                                                                 \n",
            " dense_7 (Dense)             (None, 1)                 65        \n",
            "                                                                 \n",
            "=================================================================\n",
            "Total params: 29,345\n",
            "Trainable params: 29,153\n",
            "Non-trainable params: 192\n",
            "_________________________________________________________________\n",
            "None\n",
            "Epoch 1/50\n"
          ]
        },
        {
          "output_type": "stream",
          "name": "stderr",
          "text": [
            "/usr/local/lib/python3.7/dist-packages/keras/optimizer_v2/adam.py:105: UserWarning: The `lr` argument is deprecated, use `learning_rate` instead.\n",
            "  super(Adam, self).__init__(name, **kwargs)\n"
          ]
        },
        {
          "output_type": "stream",
          "name": "stdout",
          "text": [
            "5/5 [==============================] - 1s 60ms/step - loss: 1.7086 - accuracy: 0.4961 - val_loss: 0.7206 - val_accuracy: 0.5152\n",
            "Epoch 2/50\n",
            "5/5 [==============================] - 0s 13ms/step - loss: 1.5357 - accuracy: 0.5349 - val_loss: 0.7139 - val_accuracy: 0.5152\n",
            "Epoch 3/50\n",
            "5/5 [==============================] - 0s 11ms/step - loss: 1.4056 - accuracy: 0.4651 - val_loss: 0.7072 - val_accuracy: 0.5152\n",
            "Epoch 4/50\n",
            "5/5 [==============================] - 0s 11ms/step - loss: 1.2136 - accuracy: 0.5271 - val_loss: 0.7020 - val_accuracy: 0.4848\n",
            "Epoch 5/50\n",
            "5/5 [==============================] - 0s 12ms/step - loss: 1.3458 - accuracy: 0.5891 - val_loss: 0.6964 - val_accuracy: 0.4848\n",
            "Epoch 6/50\n",
            "5/5 [==============================] - 0s 13ms/step - loss: 1.1354 - accuracy: 0.5891 - val_loss: 0.6900 - val_accuracy: 0.4848\n",
            "Epoch 7/50\n",
            "5/5 [==============================] - 0s 12ms/step - loss: 1.2783 - accuracy: 0.4496 - val_loss: 0.6836 - val_accuracy: 0.4848\n",
            "Epoch 8/50\n",
            "5/5 [==============================] - 0s 14ms/step - loss: 1.0423 - accuracy: 0.5891 - val_loss: 0.6758 - val_accuracy: 0.4848\n",
            "Epoch 9/50\n",
            "5/5 [==============================] - 0s 13ms/step - loss: 1.0093 - accuracy: 0.5659 - val_loss: 0.6681 - val_accuracy: 0.5152\n",
            "Epoch 10/50\n",
            "5/5 [==============================] - 0s 13ms/step - loss: 0.7296 - accuracy: 0.6744 - val_loss: 0.6602 - val_accuracy: 0.5152\n",
            "Epoch 11/50\n",
            "5/5 [==============================] - 0s 12ms/step - loss: 1.1203 - accuracy: 0.5659 - val_loss: 0.6515 - val_accuracy: 0.5152\n",
            "Epoch 12/50\n",
            "5/5 [==============================] - 0s 12ms/step - loss: 0.6856 - accuracy: 0.7442 - val_loss: 0.6431 - val_accuracy: 0.5152\n",
            "Epoch 13/50\n",
            "5/5 [==============================] - 0s 12ms/step - loss: 0.9041 - accuracy: 0.6202 - val_loss: 0.6352 - val_accuracy: 0.5152\n",
            "Epoch 14/50\n",
            "5/5 [==============================] - 0s 12ms/step - loss: 0.6726 - accuracy: 0.7054 - val_loss: 0.6279 - val_accuracy: 0.5455\n",
            "Epoch 15/50\n",
            "5/5 [==============================] - 0s 12ms/step - loss: 0.6507 - accuracy: 0.7364 - val_loss: 0.6213 - val_accuracy: 0.6061\n",
            "Epoch 16/50\n",
            "5/5 [==============================] - 0s 11ms/step - loss: 0.6000 - accuracy: 0.7442 - val_loss: 0.6149 - val_accuracy: 0.6061\n",
            "Epoch 17/50\n",
            "5/5 [==============================] - 0s 13ms/step - loss: 0.7841 - accuracy: 0.6279 - val_loss: 0.6084 - val_accuracy: 0.6061\n",
            "Epoch 18/50\n",
            "5/5 [==============================] - 0s 12ms/step - loss: 0.7758 - accuracy: 0.6434 - val_loss: 0.6024 - val_accuracy: 0.6364\n",
            "Epoch 19/50\n",
            "5/5 [==============================] - 0s 11ms/step - loss: 0.6088 - accuracy: 0.7364 - val_loss: 0.5960 - val_accuracy: 0.6364\n",
            "Epoch 20/50\n",
            "5/5 [==============================] - 0s 11ms/step - loss: 0.7091 - accuracy: 0.7364 - val_loss: 0.5893 - val_accuracy: 0.6667\n",
            "Epoch 21/50\n",
            "5/5 [==============================] - 0s 12ms/step - loss: 0.5697 - accuracy: 0.7364 - val_loss: 0.5821 - val_accuracy: 0.6667\n",
            "Epoch 22/50\n",
            "5/5 [==============================] - 0s 12ms/step - loss: 0.4919 - accuracy: 0.7519 - val_loss: 0.5756 - val_accuracy: 0.6667\n",
            "Epoch 23/50\n",
            "5/5 [==============================] - 0s 11ms/step - loss: 0.5303 - accuracy: 0.7519 - val_loss: 0.5692 - val_accuracy: 0.6667\n",
            "Epoch 24/50\n",
            "5/5 [==============================] - 0s 12ms/step - loss: 0.4732 - accuracy: 0.7597 - val_loss: 0.5632 - val_accuracy: 0.6667\n",
            "Epoch 25/50\n",
            "5/5 [==============================] - 0s 11ms/step - loss: 0.4901 - accuracy: 0.7907 - val_loss: 0.5575 - val_accuracy: 0.6667\n",
            "Epoch 26/50\n",
            "5/5 [==============================] - 0s 13ms/step - loss: 0.5611 - accuracy: 0.7752 - val_loss: 0.5522 - val_accuracy: 0.6970\n",
            "Epoch 27/50\n",
            "5/5 [==============================] - 0s 12ms/step - loss: 0.5940 - accuracy: 0.7442 - val_loss: 0.5460 - val_accuracy: 0.6970\n",
            "Epoch 28/50\n",
            "5/5 [==============================] - 0s 11ms/step - loss: 0.6403 - accuracy: 0.7287 - val_loss: 0.5392 - val_accuracy: 0.6970\n",
            "Epoch 29/50\n",
            "5/5 [==============================] - 0s 11ms/step - loss: 0.5800 - accuracy: 0.8372 - val_loss: 0.5329 - val_accuracy: 0.7273\n",
            "Epoch 30/50\n",
            "5/5 [==============================] - 0s 11ms/step - loss: 0.5601 - accuracy: 0.7209 - val_loss: 0.5260 - val_accuracy: 0.7273\n",
            "Epoch 31/50\n",
            "5/5 [==============================] - 0s 11ms/step - loss: 0.4953 - accuracy: 0.7674 - val_loss: 0.5180 - val_accuracy: 0.7273\n",
            "Epoch 32/50\n",
            "5/5 [==============================] - 0s 13ms/step - loss: 0.4141 - accuracy: 0.8062 - val_loss: 0.5103 - val_accuracy: 0.7576\n",
            "Epoch 33/50\n",
            "5/5 [==============================] - 0s 11ms/step - loss: 0.5045 - accuracy: 0.7752 - val_loss: 0.5029 - val_accuracy: 0.7576\n",
            "Epoch 34/50\n",
            "5/5 [==============================] - 0s 11ms/step - loss: 0.3854 - accuracy: 0.8450 - val_loss: 0.4959 - val_accuracy: 0.7576\n",
            "Epoch 35/50\n",
            "5/5 [==============================] - 0s 12ms/step - loss: 0.4244 - accuracy: 0.7829 - val_loss: 0.4887 - val_accuracy: 0.7576\n",
            "Epoch 36/50\n",
            "5/5 [==============================] - 0s 11ms/step - loss: 0.3099 - accuracy: 0.8760 - val_loss: 0.4818 - val_accuracy: 0.7576\n",
            "Epoch 37/50\n",
            "5/5 [==============================] - 0s 12ms/step - loss: 0.4876 - accuracy: 0.8140 - val_loss: 0.4743 - val_accuracy: 0.7576\n",
            "Epoch 38/50\n",
            "5/5 [==============================] - 0s 11ms/step - loss: 0.5368 - accuracy: 0.8217 - val_loss: 0.4662 - val_accuracy: 0.7879\n",
            "Epoch 39/50\n",
            "5/5 [==============================] - 0s 12ms/step - loss: 0.3590 - accuracy: 0.8217 - val_loss: 0.4582 - val_accuracy: 0.7879\n",
            "Epoch 40/50\n",
            "5/5 [==============================] - 0s 11ms/step - loss: 0.3166 - accuracy: 0.8760 - val_loss: 0.4490 - val_accuracy: 0.7879\n",
            "Epoch 41/50\n",
            "5/5 [==============================] - 0s 11ms/step - loss: 0.4362 - accuracy: 0.8605 - val_loss: 0.4409 - val_accuracy: 0.8182\n",
            "Epoch 42/50\n",
            "5/5 [==============================] - 0s 13ms/step - loss: 0.5014 - accuracy: 0.7829 - val_loss: 0.4325 - val_accuracy: 0.8485\n",
            "Epoch 43/50\n",
            "5/5 [==============================] - 0s 13ms/step - loss: 0.3324 - accuracy: 0.8605 - val_loss: 0.4240 - val_accuracy: 0.8485\n",
            "Epoch 44/50\n",
            "5/5 [==============================] - 0s 11ms/step - loss: 0.3454 - accuracy: 0.8682 - val_loss: 0.4154 - val_accuracy: 0.8485\n",
            "Epoch 45/50\n",
            "5/5 [==============================] - 0s 11ms/step - loss: 0.3693 - accuracy: 0.8295 - val_loss: 0.4069 - val_accuracy: 0.8485\n",
            "Epoch 46/50\n",
            "5/5 [==============================] - 0s 11ms/step - loss: 0.3676 - accuracy: 0.8527 - val_loss: 0.3981 - val_accuracy: 0.8485\n",
            "Epoch 47/50\n",
            "5/5 [==============================] - 0s 12ms/step - loss: 0.3744 - accuracy: 0.8450 - val_loss: 0.3901 - val_accuracy: 0.8788\n",
            "Epoch 48/50\n",
            "5/5 [==============================] - 0s 11ms/step - loss: 0.4547 - accuracy: 0.8372 - val_loss: 0.3811 - val_accuracy: 0.8788\n",
            "Epoch 49/50\n",
            "5/5 [==============================] - 0s 11ms/step - loss: 0.4307 - accuracy: 0.8140 - val_loss: 0.3726 - val_accuracy: 0.8788\n",
            "Epoch 50/50\n",
            "5/5 [==============================] - 0s 12ms/step - loss: 0.3795 - accuracy: 0.8760 - val_loss: 0.3643 - val_accuracy: 0.8788\n"
          ]
        },
        {
          "output_type": "display_data",
          "data": {
            "image/png": "[encoded data removed]",
            "text/plain": [
              "<Figure size 432x288 with 1 Axes>"
            ]
          },
          "metadata": {
            "needs_background": "light"
          }
        },
        {
          "output_type": "display_data",
          "data": {
            "image/png": "[encoded data removed]",
            "text/plain": [
              "<Figure size 432x288 with 1 Axes>"
            ]
          },
          "metadata": {
            "needs_background": "light"
          }
        },
        {
          "output_type": "stream",
          "name": "stdout",
          "text": [
            "None\n",
            "INFO:tensorflow:Assets written to: ram://657fb736-fdaf-4eda-8d79-8ec4cf17438e/assets\n",
            "[[0.00264323]]\n"
          ]
        }
      ]
    },
    {
      "cell_type": "code",
      "source": [],
      "metadata": {
        "id": "CAcKMqC24vQv"
      },
      "execution_count": null,
      "outputs": []
    },
    {
      "cell_type": "code",
      "source": [
        "!pip install flask_ngrok\n"
      ],
      "metadata": {
        "colab": {
          "base_uri": "https://localhost:8080/"
        },
        "id": "OpZpJzHNyVxh",
        "outputId": "da492933-b24e-475c-d707-d2d2f594e05b"
      },
      "execution_count": null,
      "outputs": [
        {
          "output_type": "stream",
          "name": "stdout",
          "text": [
            "Collecting flask_ngrok\n",
            "  Downloading flask_ngrok-0.0.25-py3-none-any.whl (3.1 kB)\n",
            "Requirement already satisfied: requests in /usr/local/lib/python3.7/dist-packages (from flask_ngrok) (2.23.0)\n",
            "Requirement already satisfied: Flask>=0.8 in /usr/local/lib/python3.7/dist-packages (from flask_ngrok) (1.1.4)\n",
            "Requirement already satisfied: Werkzeug<2.0,>=0.15 in /usr/local/lib/python3.7/dist-packages (from Flask>=0.8->flask_ngrok) (1.0.1)\n",
            "Requirement already satisfied: Jinja2<3.0,>=2.10.1 in /usr/local/lib/python3.7/dist-packages (from Flask>=0.8->flask_ngrok) (2.11.3)\n",
            "Requirement already satisfied: itsdangerous<2.0,>=0.24 in /usr/local/lib/python3.7/dist-packages (from Flask>=0.8->flask_ngrok) (1.1.0)\n",
            "Requirement already satisfied: click<8.0,>=5.1 in /usr/local/lib/python3.7/dist-packages (from Flask>=0.8->flask_ngrok) (7.1.2)\n",
            "Requirement already satisfied: MarkupSafe>=0.23 in /usr/local/lib/python3.7/dist-packages (from Jinja2<3.0,>=2.10.1->Flask>=0.8->flask_ngrok) (2.0.1)\n",
            "Requirement already satisfied: chardet<4,>=3.0.2 in /usr/local/lib/python3.7/dist-packages (from requests->flask_ngrok) (3.0.4)\n",
            "Requirement already satisfied: certifi>=2017.4.17 in /usr/local/lib/python3.7/dist-packages (from requests->flask_ngrok) (2021.10.8)\n",
            "Requirement already satisfied: urllib3!=1.25.0,!=1.25.1,<1.26,>=1.21.1 in /usr/local/lib/python3.7/dist-packages (from requests->flask_ngrok) (1.24.3)\n",
            "Requirement already satisfied: idna<3,>=2.5 in /usr/local/lib/python3.7/dist-packages (from requests->flask_ngrok) (2.10)\n",
            "Installing collected packages: flask-ngrok\n",
            "Successfully installed flask-ngrok-0.0.25\n"
          ]
        }
      ]
    },
    {
      "cell_type": "code",
      "source": [],
      "metadata": {
        "id": "VlM72j2_44Fn"
      },
      "execution_count": null,
      "outputs": []
    },
    {
      "cell_type": "code",
      "source": [
        "!curl -s https://ngrok-agent.s3.amazonaws.com/ngrok.asc | sudo tee /etc/apt/trusted.gpg.d/ngrok.asc >/dev/null &&  echo \"deb https://ngrok-agent.s3.amazonaws.com buster main\" | sudo tee /etc/apt/sources.list.d/ngrok.list && sudo apt update && sudo apt install ngrok"
      ],
      "metadata": {
        "id": "bR3jTiFJ21XS",
        "colab": {
          "base_uri": "https://localhost:8080/"
        },
        "outputId": "0f7e437e-7ee0-47ca-96e7-61b62779f864"
      },
      "execution_count": null,
      "outputs": [
        {
          "output_type": "stream",
          "name": "stdout",
          "text": [
            "deb https://ngrok-agent.s3.amazonaws.com buster main\n",
            "\u001b[33m\r0% [Working]\u001b[0m\r            \rGet:1 http://security.ubuntu.com/ubuntu bionic-security InRelease [88.7 kB]\n",
            "Get:2 https://cloud.r-project.org/bin/linux/ubuntu bionic-cran40/ InRelease [3,626 B]\n",
            "Ign:3 https://developer.download.nvidia.com/compute/cuda/repos/ubuntu1804/x86_64  InRelease\n",
            "Get:4 http://ppa.launchpad.net/c2d4u.team/c2d4u4.0+/ubuntu bionic InRelease [15.9 kB]\n",
            "Hit:5 http://archive.ubuntu.com/ubuntu bionic InRelease\n",
            "Ign:6 https://developer.download.nvidia.com/compute/machine-learning/repos/ubuntu1804/x86_64  InRelease\n",
            "Get:7 https://developer.download.nvidia.com/compute/cuda/repos/ubuntu1804/x86_64  Release [696 B]\n",
            "Hit:8 https://developer.download.nvidia.com/compute/machine-learning/repos/ubuntu1804/x86_64  Release\n",
            "Get:9 http://archive.ubuntu.com/ubuntu bionic-updates InRelease [88.7 kB]\n",
            "Get:10 https://developer.download.nvidia.com/compute/cuda/repos/ubuntu1804/x86_64  Release.gpg [836 B]\n",
            "Get:11 https://ngrok-agent.s3.amazonaws.com buster InRelease [7,470 B]\n",
            "Get:12 http://security.ubuntu.com/ubuntu bionic-security/restricted amd64 Packages [806 kB]\n",
            "Hit:13 http://ppa.launchpad.net/cran/libgit2/ubuntu bionic InRelease\n",
            "Get:14 http://security.ubuntu.com/ubuntu bionic-security/universe amd64 Packages [1,474 kB]\n",
            "Get:15 http://security.ubuntu.com/ubuntu bionic-security/main amd64 Packages [2,594 kB]\n",
            "Get:16 http://archive.ubuntu.com/ubuntu bionic-backports InRelease [74.6 kB]\n",
            "Hit:17 http://ppa.launchpad.net/deadsnakes/ppa/ubuntu bionic InRelease\n",
            "Get:18 http://ppa.launchpad.net/graphics-drivers/ppa/ubuntu bionic InRelease [21.3 kB]\n",
            "Get:20 http://ppa.launchpad.net/c2d4u.team/c2d4u4.0+/ubuntu bionic/main Sources [1,827 kB]\n",
            "Get:21 https://developer.download.nvidia.com/compute/cuda/repos/ubuntu1804/x86_64  Packages [929 kB]\n",
            "Get:22 https://ngrok-agent.s3.amazonaws.com buster/main amd64 Packages [598 B]\n",
            "Get:23 http://archive.ubuntu.com/ubuntu bionic-updates/universe amd64 Packages [2,252 kB]\n",
            "Get:24 http://ppa.launchpad.net/c2d4u.team/c2d4u4.0+/ubuntu bionic/main amd64 Packages [937 kB]\n",
            "Get:25 http://archive.ubuntu.com/ubuntu bionic-updates/restricted amd64 Packages [840 kB]\n",
            "Get:26 http://archive.ubuntu.com/ubuntu bionic-updates/main amd64 Packages [3,035 kB]\n",
            "Get:27 http://ppa.launchpad.net/graphics-drivers/ppa/ubuntu bionic/main amd64 Packages [42.8 kB]\n",
            "Fetched 15.0 MB in 3s (5,894 kB/s)\n",
            "Reading package lists... Done\n",
            "Building dependency tree       \n",
            "Reading state information... Done\n",
            "66 packages can be upgraded. Run 'apt list --upgradable' to see them.\n",
            "Reading package lists... Done\n",
            "Building dependency tree       \n",
            "Reading state information... Done\n",
            "The following package was automatically installed and is no longer required:\n",
            "  libnvidia-common-470\n",
            "Use 'sudo apt autoremove' to remove it.\n",
            "The following NEW packages will be installed:\n",
            "  ngrok\n",
            "0 upgraded, 1 newly installed, 0 to remove and 66 not upgraded.\n",
            "Need to get 11.7 MB of archives.\n",
            "After this operation, 0 B of additional disk space will be used.\n",
            "Get:1 https://ngrok-agent.s3.amazonaws.com buster/main amd64 ngrok amd64 2.3.40 [11.7 MB]\n",
            "Fetched 11.7 MB in 1s (8,305 kB/s)\n",
            "debconf: unable to initialize frontend: Dialog\n",
            "debconf: (No usable dialog-like program is installed, so the dialog based frontend cannot be used. at /usr/share/perl5/Debconf/FrontEnd/Dialog.pm line 76, <> line 1.)\n",
            "debconf: falling back to frontend: Readline\n",
            "debconf: unable to initialize frontend: Readline\n",
            "debconf: (This frontend requires a controlling tty.)\n",
            "debconf: falling back to frontend: Teletype\n",
            "dpkg-preconfigure: unable to re-open stdin: \n",
            "Selecting previously unselected package ngrok.\n",
            "(Reading database ... 155320 files and directories currently installed.)\n",
            "Preparing to unpack .../ngrok_2.3.40_amd64.deb ...\n",
            "Unpacking ngrok (2.3.40) ...\n",
            "Setting up ngrok (2.3.40) ...\n"
          ]
        }
      ]
    },
    {
      "cell_type": "code",
      "source": [],
      "metadata": {
        "id": "ot1o_vB4g1Qd"
      },
      "execution_count": null,
      "outputs": []
    },
    {
      "cell_type": "code",
      "source": [
        "!ngrok authtoken 25QNptNW19qLgrg5kXH2Pr6NP8y_6JaYptLNKWdZVqjQ9u38Z"
      ],
      "metadata": {
        "id": "HzlYY7Bq3ASE",
        "colab": {
          "base_uri": "https://localhost:8080/"
        },
        "outputId": "70f016e0-b69d-4960-9d17-6732312ea6a3"
      },
      "execution_count": null,
      "outputs": [
        {
          "output_type": "stream",
          "name": "stdout",
          "text": [
            "Authtoken saved to configuration file: /root/.ngrok2/ngrok.yml\n"
          ]
        }
      ]
    },
    {
      "cell_type": "code",
      "source": [
        "from flask_ngrok import run_with_ngrok\n",
        "from flask import Flask,request,jsonify,render_template\n",
        "app=Flask(__name__)\n",
        "run_with_ngrok(app)\n",
        "@app.route('/')\n",
        "def home ():\n",
        "  return render_template(\"index.html\")\n",
        "@app.route('/predict',methods=['POST','GET'])\n",
        "def predict():\n",
        "  global result\n",
        "  if request.method=='POST':\n",
        "    time=request.form['time']\n",
        "    v1=request.form['V1']\n",
        "    v2=request.form['V2']\n",
        "    v3= request.form['V3']\n",
        "    v4= request.form['V4']\n",
        "    v5= request.form['V5']\n",
        "    v6= request.form['V6']\n",
        "    v7= request.form['V7']\n",
        "    v8= request.form['V8']\n",
        "    v9= request.form['V9']\n",
        "    v10=request.form['V10']\n",
        "    v11= request.form['V11']\n",
        "    v12= request.form['V12']\n",
        "    v13= request.form['V13']\n",
        "    v14= request.form['V14']\n",
        "    v15= request.form['V15']\n",
        "    v16= request.form['V16']\n",
        "    v17= request.form['V17']\n",
        "    v18= request.form['V18']\n",
        "    v19= request.form['V19']\n",
        "    v20= request.form['V20']\n",
        "    v21= request.form['V21']\n",
        "    v22= request.form['V22']\n",
        "    v23= request.form['V23']\n",
        "    v24= request.form['V24']\n",
        "    v25= request.form['V25']\n",
        "    v26= request.form['V26']\n",
        "    v27 = request.form['V27']\n",
        "    v28 = request.form['V28']\n",
        "    amount=request.form['amt']\n",
        "    model=pickle.load(open(file_name, 'rb'))\n",
        "    result=model.predict([[float(time),float(v1),float(v2),float(v3),float(v4),float(v5),float(v6),float(v7)\n",
        "                            ,float(v8),float(v9),float(v10),float(v11),float(12),float(v13),float(v14),float(v15),\n",
        "                           float(v16),float(v17),float(v18),float(v19),float(v20),float(v21),float(v22),float(v23),float(v24),float(v25),float(v26)\n",
        "                                  ,float(v27),float(v28),float(amount)]])\n",
        "    if int(result[0])==1:\n",
        "      prediction=\"Given Transaction is Fraudulent\"\n",
        "    else:\n",
        "      prediction=\"Given Transaction is Genuine/Non-Fraudulent\"\n",
        "    return render_template(\"result.html\",prediction=prediction)\n",
        "app.run()\n"
      ],
      "metadata": {
        "colab": {
          "base_uri": "https://localhost:8080/"
        },
        "id": "Yy1Dj1I75Gyp",
        "outputId": "80294e51-cab4-4c78-cb7a-7d091bab58b7"
      },
      "execution_count": null,
      "outputs": [
        {
          "output_type": "stream",
          "name": "stdout",
          "text": [
            " * Serving Flask app \"__main__\" (lazy loading)\n",
            " * Environment: production\n",
            "\u001b[31m   WARNING: This is a development server. Do not use it in a production deployment.\u001b[0m\n",
            "\u001b[2m   Use a production WSGI server instead.\u001b[0m\n",
            " * Debug mode: off\n",
            " * Running on http://4d34-34-86-234-241.ngrok.io\n",
            " * Traffic stats available on http://127.0.0.1:4040\n"
          ]
        }
      ]
    }
  ]
}